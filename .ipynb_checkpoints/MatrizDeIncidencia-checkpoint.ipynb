{
 "cells": [
  {
   "cell_type": "markdown",
   "id": "53ede69b-4a19-41d8-b21a-95d89e8e86a5",
   "metadata": {},
   "source": [
    "# Matriz de Incidencia y Matriz poco densa.\n",
    "\n",
    "Implemente un sistema que realice lo siguiente:\n",
    "\n",
    "  * Leer un archivo json que será la representación de la martriz poco densa formada mediante la interpretación de una matriz de incidencia del grafo.\n",
    "  * Mostrar gráficamente el grafo constriudo a partir de la matriz poco densa.\n",
    "  * Encontrar el camino más cort mediante el algoritmo \"warshall-floyd\".\n",
    "  * mostrar la matriz de distancias y matriz de recorridos como dos DataFrames de Pandas."
   ]
  },
  {
   "cell_type": "code",
   "execution_count": null,
   "id": "083756fe-ce1a-4ace-9cdd-0d5640371cca",
   "metadata": {},
   "outputs": [],
   "source": []
  }
 ],
 "metadata": {
  "kernelspec": {
   "display_name": "Python 3 (ipykernel)",
   "language": "python",
   "name": "python3"
  },
  "language_info": {
   "codemirror_mode": {
    "name": "ipython",
    "version": 3
   },
   "file_extension": ".py",
   "mimetype": "text/x-python",
   "name": "python",
   "nbconvert_exporter": "python",
   "pygments_lexer": "ipython3",
   "version": "3.8.12"
  }
 },
 "nbformat": 4,
 "nbformat_minor": 5
}
